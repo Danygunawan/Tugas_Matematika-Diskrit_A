{
  "nbformat": 4,
  "nbformat_minor": 0,
  "metadata": {
    "colab": {
      "private_outputs": true,
      "provenance": []
    },
    "kernelspec": {
      "name": "python3",
      "display_name": "Python 3"
    },
    "language_info": {
      "name": "python"
    }
  },
  "cells": [
    {
      "cell_type": "code",
      "execution_count": null,
      "metadata": {
        "id": "WAsvdiFJXJmG"
      },
      "outputs": [],
      "source": [
        "# Nama : Achmad Dany Gunawan\n",
        "# NPM : 24083010075\n",
        "\n",
        "import pandas as pd\n",
        "import numpy as np\n",
        "\n",
        "url = \"https://raw.githubusercontent.com/Danygunawan/FIle-Nama-Mahasiswa-Sains-Data/refs/heads/main/Data10.csv\"\n",
        "df = pd.read_csv(url)\n",
        "df"
      ]
    },
    {
      "cell_type": "code",
      "source": [
        "# Menjumlahkan ke empat kolom untuk mendapatkan skor total\n",
        "numeric_cols = [\"ADIL DAN AMANAH\", \"SUKA MEMBANTU\", \"NYAMBUNG KALAU NGOROL\", \"ASYIK DAN MENARIK\"]\n",
        "df[\"skor_total\"] = df[numeric_cols].sum(axis=1)\n",
        "\n",
        "# Pilih 4 orang dengan skor terbesar\n",
        "top4 = df.nlargest(4, \"skor_total\")\n",
        "\n",
        "print(\"Empat orang dengan nilai tertinggi:\")\n",
        "import IPython.display as display\n",
        "display.display(top4)"
      ],
      "metadata": {
        "id": "rzkfLpNqcKGp"
      },
      "execution_count": null,
      "outputs": []
    },
    {
      "cell_type": "code",
      "source": [
        "# Memilih kolom yang bernilai numerik untuk mencari matriks kovarian dan matriks korelasi, kemudian disimpan di variabel kelasku\n",
        "numeric_cols = [\"ADIL DAN AMANAH\", \"SUKA MEMBANTU\", \"NYAMBUNG KALAU NGOROL\", \"ASYIK DAN MENARIK\", \"skor_total\"]\n",
        "kelasku = df[numeric_cols].values\n",
        "\n",
        "# Matriks kovarian\n",
        "cov_mat = np.cov(kelasku, rowvar=False, ddof=1)\n",
        "# Matriks korelasi\n",
        "corr_mat = np.corrcoef(kelasku, rowvar=False)\n",
        "\n",
        "print(\"Matriks Kovarian:\")\n",
        "import IPython.display as display\n",
        "display.display(pd.DataFrame(cov_mat, columns=numeric_cols, index=numeric_cols))\n",
        "print(\"\\nMatriks Korelasi:\")\n",
        "display.display(pd.DataFrame(corr_mat, columns=numeric_cols, index=numeric_cols))"
      ],
      "metadata": {
        "id": "x6eqSePKiNj8"
      },
      "execution_count": null,
      "outputs": []
    },
    {
      "cell_type": "code",
      "source": [
        "# Memilih kolom numurik untuk perhitungan cosine similarity\n",
        "numeric_cols = [\"ADIL DAN AMANAH\", \"SUKA MEMBANTU\", \"NYAMBUNG KALAU NGOROL\", \"ASYIK DAN MENARIK\"]\n",
        "X_matrix = df[numeric_cols].values\n",
        "\n",
        "# Define students variable dan menghitung norm tiap siswa\n",
        "students = df['NAMA'].tolist()\n",
        "norms = np.linalg.norm(X_matrix, axis=1, keepdims=True)\n",
        "\n",
        "# Hitung cosine similarity\n",
        "cosine_sim = (X_matrix @ X_matrix.T) / (norms @ norms.T)\n",
        "cosine_df = pd.DataFrame(cosine_sim, index=students, columns=students)\n",
        "import IPython.display as display\n",
        "display.display(cosine_df.head(10).iloc[:, :10])"
      ],
      "metadata": {
        "id": "nJE-lmgYlrxX"
      },
      "execution_count": null,
      "outputs": []
    },
    {
      "cell_type": "markdown",
      "source": [
        "#Melakukan PCA (Principal Component Analysis) untuk melihat polas secara global"
      ],
      "metadata": {
        "id": "9XjD_UVVroNE"
      }
    },
    {
      "cell_type": "code",
      "source": [
        "import pandas as pd\n",
        "import numpy as np\n",
        "import matplotlib.pyplot as plt\n",
        "from sklearn.decomposition import PCA\n",
        "from sklearn.preprocessing import StandardScaler\n",
        "\n",
        "# Ambil data hanya untuk 4 kolom dengan nama yang benar\n",
        "cols = [\"ADIL DAN AMANAH\", \"SUKA MEMBANTU\", \"NYAMBUNG KALAU NGOROL\", \"ASYIK DAN MENARIK\"]\n",
        "X = df[cols].values\n",
        "\n",
        "# Standardisasi data\n",
        "scaler = StandardScaler()\n",
        "X_scaled = scaler.fit_transform(X)\n",
        "\n",
        "# Melakukan PCA kepada 2 komponen utama\n",
        "pca = PCA(n_components=2)\n",
        "X_pca = pca.fit_transform(X_scaled)\n",
        "\n",
        "# Membuat DataFrame hasil dari PCA\n",
        "pca_df = pd.DataFrame(data=X_pca, columns=[\"PC1\", \"PC2\"])\n",
        "\n",
        "# Plot hasil PCA\n",
        "plt.figure(figsize=(8,6))\n",
        "plt.scatter(pca_df[\"PC1\"], pca_df[\"PC2\"], alpha=0.7, color=\"skyblue\", edgecolor=\"black\")\n",
        "plt.title(\"PCA - 2 Komponen Utama dari Karakteristik Siswa\")\n",
        "plt.xlabel(f\"PC1 ({pca.explained_variance_ratio_[0]*100:.2f}% varian)\")\n",
        "plt.ylabel(f\"PC2 ({pca.explained_variance_ratio_[1]*100:.2f}% varian)\")\n",
        "plt.grid(True)\n",
        "plt.show()\n",
        "\n",
        "# Menampilkan kontribusi tiap komponen\n",
        "loadings = pd.DataFrame(pca.components_.T,\n",
        "                        columns=[\"PC1\", \"PC2\"],\n",
        "                        index=cols)\n",
        "print(\"Loading matrix (kontribusi variabel ke PC1 & PC2):\")\n",
        "print(loadings)"
      ],
      "metadata": {
        "id": "JbBEvk4WpKDa"
      },
      "execution_count": null,
      "outputs": []
    }
  ]
}