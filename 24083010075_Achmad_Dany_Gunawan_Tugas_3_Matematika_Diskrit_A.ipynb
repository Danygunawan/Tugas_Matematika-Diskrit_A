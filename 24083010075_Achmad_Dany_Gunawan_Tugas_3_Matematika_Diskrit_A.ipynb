{
  "nbformat": 4,
  "nbformat_minor": 0,
  "metadata": {
    "colab": {
      "provenance": []
    },
    "kernelspec": {
      "name": "python3",
      "display_name": "Python 3"
    },
    "language_info": {
      "name": "python"
    }
  },
  "cells": [
    {
      "cell_type": "markdown",
      "source": [
        "Nama: Achmad Dany Gunawan\n",
        "\n",
        "NPM : 24083010075\n",
        "\n",
        "Matkul: Matematika Diskrit (A)"
      ],
      "metadata": {
        "id": "N1jS34Luk5sT"
      }
    },
    {
      "cell_type": "code",
      "source": [
        "# Jadi disini saya memilih pernyataan 1 dan pernyatan 5 untuk menentukan jangka bilangan bulat (n berapa saja) yang valid. yaitu:\n",
        "# 1 + 3 + 5 +...+(2n-1) = n^2\n",
        "# 2^n > n^2"
      ],
      "metadata": {
        "id": "StTXh5oEltu5"
      },
      "execution_count": null,
      "outputs": []
    },
    {
      "cell_type": "code",
      "source": [
        "# 1 + 3 + 5 +...+(2n-1) = n^2 ---> dengan syarat n >= 0\n",
        "import math\n",
        "def cek_valid(n):\n",
        "  hasil = {}\n",
        "  sisi_kiri = sum(2*i - 1 for i in range(1, n+1))\n",
        "  sisi_kanan = n**2\n",
        "  hasil[\"hasil dari pengecekan\"] = (sisi_kiri - sisi_kanan >=0)\n",
        "\n",
        "  return hasil\n",
        "\n",
        "for n in range(1, 20):\n",
        "  print(f\"n = {n} adalah\", cek_valid(n))\n",
        "print(\"\")\n",
        "print(\"Jadi hasil dari pengecek bilangan n antara 1 sampai 19 bernilai True semua untuk jangka bilangan bulat\")"
      ],
      "metadata": {
        "colab": {
          "base_uri": "https://localhost:8080/"
        },
        "id": "OY65-Mi3lF0O",
        "outputId": "fc30ab53-7b0e-4f58-dcb9-71fdd4a2cf82"
      },
      "execution_count": 1,
      "outputs": [
        {
          "output_type": "stream",
          "name": "stdout",
          "text": [
            "n = 1 adalah {'hasil dari pengecekan': True}\n",
            "n = 2 adalah {'hasil dari pengecekan': True}\n",
            "n = 3 adalah {'hasil dari pengecekan': True}\n",
            "n = 4 adalah {'hasil dari pengecekan': True}\n",
            "n = 5 adalah {'hasil dari pengecekan': True}\n",
            "n = 6 adalah {'hasil dari pengecekan': True}\n",
            "n = 7 adalah {'hasil dari pengecekan': True}\n",
            "n = 8 adalah {'hasil dari pengecekan': True}\n",
            "n = 9 adalah {'hasil dari pengecekan': True}\n",
            "n = 10 adalah {'hasil dari pengecekan': True}\n",
            "n = 11 adalah {'hasil dari pengecekan': True}\n",
            "n = 12 adalah {'hasil dari pengecekan': True}\n",
            "n = 13 adalah {'hasil dari pengecekan': True}\n",
            "n = 14 adalah {'hasil dari pengecekan': True}\n",
            "n = 15 adalah {'hasil dari pengecekan': True}\n",
            "n = 16 adalah {'hasil dari pengecekan': True}\n",
            "n = 17 adalah {'hasil dari pengecekan': True}\n",
            "n = 18 adalah {'hasil dari pengecekan': True}\n",
            "n = 19 adalah {'hasil dari pengecekan': True}\n",
            "\n",
            "Jadi hasil dari pengecek bilangan n antara 1 sampai 19 bernilai True semua untuk jangka bilangan bulat\n"
          ]
        }
      ]
    },
    {
      "cell_type": "code",
      "source": [
        "# 2^n > n^2 --> n bernilai bebas\n",
        "import math\n",
        "def cek_valid(n):\n",
        "  hasil = {}\n",
        "  hasil[\"persamaan kuadrat\"] = (2**n > n**2)\n",
        "  return hasil\n",
        "for n in range(-10, 10):\n",
        "  print(f\"n = {n} adalah\", cek_valid(n))\n",
        "print(\"\")\n",
        "print(\"Jadi hasil dari pengecek bilangan n antara -10 sampai 9 ada yang bernilau false jika n=2, n=3, n=4, dan n bernilai negatif\")"
      ],
      "metadata": {
        "colab": {
          "base_uri": "https://localhost:8080/"
        },
        "id": "tUFuRUispoRY",
        "outputId": "784bc1f5-3a19-49db-b197-6b1aec2d256d"
      },
      "execution_count": 2,
      "outputs": [
        {
          "output_type": "stream",
          "name": "stdout",
          "text": [
            "n = -10 adalah {'persamaan kuadrat': False}\n",
            "n = -9 adalah {'persamaan kuadrat': False}\n",
            "n = -8 adalah {'persamaan kuadrat': False}\n",
            "n = -7 adalah {'persamaan kuadrat': False}\n",
            "n = -6 adalah {'persamaan kuadrat': False}\n",
            "n = -5 adalah {'persamaan kuadrat': False}\n",
            "n = -4 adalah {'persamaan kuadrat': False}\n",
            "n = -3 adalah {'persamaan kuadrat': False}\n",
            "n = -2 adalah {'persamaan kuadrat': False}\n",
            "n = -1 adalah {'persamaan kuadrat': False}\n",
            "n = 0 adalah {'persamaan kuadrat': True}\n",
            "n = 1 adalah {'persamaan kuadrat': True}\n",
            "n = 2 adalah {'persamaan kuadrat': False}\n",
            "n = 3 adalah {'persamaan kuadrat': False}\n",
            "n = 4 adalah {'persamaan kuadrat': False}\n",
            "n = 5 adalah {'persamaan kuadrat': True}\n",
            "n = 6 adalah {'persamaan kuadrat': True}\n",
            "n = 7 adalah {'persamaan kuadrat': True}\n",
            "n = 8 adalah {'persamaan kuadrat': True}\n",
            "n = 9 adalah {'persamaan kuadrat': True}\n",
            "\n",
            "Jadi hasil dari pengecek bilangan n antara -10 sampai 9 ada yang bernilau false jika n=2, n=3, n=4, dan n bernilai negatif\n"
          ]
        }
      ]
    }
  ]
}